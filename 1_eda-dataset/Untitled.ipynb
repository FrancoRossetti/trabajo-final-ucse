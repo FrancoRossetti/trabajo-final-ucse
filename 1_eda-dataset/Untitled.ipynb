{
 "cells": [
  {
   "cell_type": "markdown",
   "id": "ffeaac01",
   "metadata": {},
   "source": [
    "<h1> Dataset 1: <strong> Spanish Arilines Tweets Sentiment Analysis </strong> </h1>"
   ]
  },
  {
   "cell_type": "markdown",
   "id": "702be320",
   "metadata": {},
   "source": [
    "Este dataset realiza un etiquetado de tweets en español respecto a su polaridad. El etiquetado se da de 3 modos: neutral, positivo, negativo."
   ]
  },
  {
   "cell_type": "markdown",
   "id": "e0ff2787",
   "metadata": {},
   "source": [
    "<h2> Diccionario de datos </h2>"
   ]
  },
  {
   "cell_type": "markdown",
   "id": "fd476b3b",
   "metadata": {},
   "source": [
    "<table>\n",
    "<thead>\n",
    "  <tr>\n",
    "    <th>Variable</th>\n",
    "    <th>Definition</th>\n",
    "    <th>Key</th>\n",
    "  </tr>\n",
    "</thead>\n",
    "<tbody>\n",
    "  <tr>\n",
    "    <td>airline_sentiment</td>\n",
    "    <td>sentiment of the tweet</td>\n",
    "    <td>neutral, negative, positive</td>\n",
    "  </tr>\n",
    "  <tr>\n",
    "    <td>is_reply</td>\n",
    "    <td>if it is a reply of another tweet</td>\n",
    "    <td>TRUE / FALSE</td>\n",
    "  </tr>\n",
    "  <tr>\n",
    "    <td>reply_count</td>\n",
    "    <td></td>\n",
    "    <td></td>\n",
    "  </tr>\n",
    "  <tr>\n",
    "    <td>retweet_count</td>\n",
    "    <td>number of retweets of that tweet</td>\n",
    "    <td></td>\n",
    "  </tr>\n",
    "  <tr>\n",
    "    <td>text</td>\n",
    "    <td>text of the tweet</td>\n",
    "    <td></td>\n",
    "  </tr>\n",
    "</tbody>\n",
    "</table>"
   ]
  },
  {
   "cell_type": "code",
   "execution_count": null,
   "id": "0d33511b",
   "metadata": {},
   "outputs": [],
   "source": []
  }
 ],
 "metadata": {
  "kernelspec": {
   "display_name": "Python 3 (ipykernel)",
   "language": "python",
   "name": "python3"
  },
  "language_info": {
   "codemirror_mode": {
    "name": "ipython",
    "version": 3
   },
   "file_extension": ".py",
   "mimetype": "text/x-python",
   "name": "python",
   "nbconvert_exporter": "python",
   "pygments_lexer": "ipython3",
   "version": "3.10.8"
  }
 },
 "nbformat": 4,
 "nbformat_minor": 5
}
