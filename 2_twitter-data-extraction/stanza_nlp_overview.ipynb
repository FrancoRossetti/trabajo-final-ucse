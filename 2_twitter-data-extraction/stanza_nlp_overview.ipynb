{
 "cells": [
  {
   "cell_type": "code",
   "execution_count": null,
   "id": "9f94c4a3",
   "metadata": {},
   "outputs": [],
   "source": [
    "import stanza"
   ]
  },
  {
   "cell_type": "code",
   "execution_count": null,
   "id": "f4f25cad",
   "metadata": {},
   "outputs": [],
   "source": [
    " stanza.download('es')\n",
    " nlp = stanza.Pipeline('es') "
   ]
  },
  {
   "cell_type": "code",
   "execution_count": null,
   "id": "f12071d0",
   "metadata": {},
   "outputs": [],
   "source": [
    "nlp"
   ]
  },
  {
   "cell_type": "code",
   "execution_count": null,
   "id": "14fbb189",
   "metadata": {},
   "outputs": [],
   "source": [
    "nlp_es = stanza.Pipeline(lang='es', processors='tokenize, pos')"
   ]
  },
  {
   "cell_type": "code",
   "execution_count": null,
   "id": "5b9d7066",
   "metadata": {},
   "outputs": [],
   "source": [
    "# Feed text to the model under 'nlp_es'; store result under the variable 'doc'\n",
    "doc_es = nlp_es(\"Que chingones los videos de los futbolistas brasileños con sus familias escuchando el anuncio de su convocatoria al mundial\")\n",
    "\n",
    "# Check the type of the output\n",
    "type(doc_es)"
   ]
  },
  {
   "cell_type": "code",
   "execution_count": null,
   "id": "85963885",
   "metadata": {},
   "outputs": [],
   "source": [
    "doc_es.sentences[0]"
   ]
  },
  {
   "cell_type": "code",
   "execution_count": null,
   "id": "8fab5cbe",
   "metadata": {},
   "outputs": [],
   "source": [
    "# Cast the first Sentence object into a Python dictionary; store under variable 'doc_dict'\n",
    "doc_dict = doc_es.sentences[0].to_dict()\n",
    "\n",
    "# Get the dictionary for the first Token\n",
    "doc_dict[0]"
   ]
  },
  {
   "cell_type": "code",
   "execution_count": null,
   "id": "c5d43b51",
   "metadata": {},
   "outputs": [],
   "source": [
    "# Get a list of keys for the first Token in the dictionary 'doc_dict'\n",
    "doc_dict[0].keys()"
   ]
  },
  {
   "cell_type": "code",
   "execution_count": null,
   "id": "abb32b1c",
   "metadata": {},
   "outputs": [],
   "source": [
    "# Get the value under key 'lemma' for the first item [0] in the dictionary 'doc_dict'\n",
    "doc_dict[0]['text']"
   ]
  },
  {
   "cell_type": "code",
   "execution_count": null,
   "id": "70f45ce3",
   "metadata": {},
   "outputs": [],
   "source": []
  }
 ],
 "metadata": {
  "kernelspec": {
   "display_name": "Python 3 (ipykernel)",
   "language": "python",
   "name": "python3"
  },
  "language_info": {
   "codemirror_mode": {
    "name": "ipython",
    "version": 3
   },
   "file_extension": ".py",
   "mimetype": "text/x-python",
   "name": "python",
   "nbconvert_exporter": "python",
   "pygments_lexer": "ipython3",
   "version": "3.10.8"
  }
 },
 "nbformat": 4,
 "nbformat_minor": 5
}
