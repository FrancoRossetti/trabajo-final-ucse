{
 "cells": [
  {
   "cell_type": "markdown",
   "id": "50e1ae78",
   "metadata": {},
   "source": [
    "<h1>Módulo de Extracción de datos</h1>"
   ]
  },
  {
   "cell_type": "markdown",
   "id": "38ead113",
   "metadata": {},
   "source": [
    "Este notebook tiene como finalidad realizar una recabación de twits relacionados al mundial 2022. Para realizar esta extracción de tweets utilizaremos las siguientes herramientas: Tweepy y Pandas."
   ]
  },
  {
   "cell_type": "code",
   "execution_count": null,
   "id": "0d6ec6cf",
   "metadata": {},
   "outputs": [],
   "source": [
    "import tweepy\n",
    "import time\n",
    "import pandas as pd\n",
    "pd.set_option('display.max_colwidth', None)\n",
    "import re"
   ]
  },
  {
   "cell_type": "code",
   "execution_count": null,
   "id": "41fdb8de",
   "metadata": {},
   "outputs": [],
   "source": [
    "%run ./twitter_keys.ipynb"
   ]
  },
  {
   "cell_type": "code",
   "execution_count": null,
   "id": "611adf57",
   "metadata": {},
   "outputs": [],
   "source": [
    "#Online authentication. Proveemos nuestro consumer_key y secret\n",
    "auth = tweepy.OAuthHandler(consumer_key, consumer_secret)\n",
    "#Proveemos nuestro access token y secret.\n",
    "auth.set_access_token(access_token,access_token_secret)\n",
    "api = tweepy.API(auth)"
   ]
  },
  {
   "cell_type": "code",
   "execution_count": null,
   "id": "bc0fa254",
   "metadata": {},
   "outputs": [],
   "source": [
    "#contenido del tweet\n",
    "tweets = []\n",
    "#cantidad de likes del tweet\n",
    "likes = []\n",
    "#tiempo en el cual el tweet se creo\n",
    "time = []"
   ]
  },
  {
   "cell_type": "code",
   "execution_count": null,
   "id": "89af9c78",
   "metadata": {},
   "outputs": [],
   "source": [
    "query = '#MundialQatar2022 OR Qatar OR Mundial OR Catar 2022 OR #Qatar2022 -filter:retweets lang:es'\n"
   ]
  },
  {
   "cell_type": "code",
   "execution_count": null,
   "id": "d3487ffe",
   "metadata": {},
   "outputs": [],
   "source": [
    "for tweet in tweepy.Cursor(api.search_tweets, \n",
    "                                 q = query).items(1500):\n",
    "    text = tweet.text.replace('\\n',' ')\n",
    "    clean_tweet = re.sub(\"@[A-Za-z0-9]+\",\"\", text)\n",
    "    clean_tweet = re.sub(\"#[A-Za-z0-9]+\",\"\", clean_tweet)\n",
    "    clean_tweet = re.sub(r\"http\\S+\", \"\", clean_tweet)\n",
    "    clean_tweet = re.sub(r\"(@\\[A-Za-z0-9]+)|([^0-9A-Za-z \\t])|(\\w+:\\/\\/\\S+)|^rt|http.+?\", \"\", clean_tweet)\n",
    "    tweets.append(clean_tweet.lower())\n",
    "    likes.append(tweet.favorite_count)\n",
    "    time.append(tweet.created_at)"
   ]
  },
  {
   "cell_type": "code",
   "execution_count": null,
   "id": "d458342d",
   "metadata": {},
   "outputs": [],
   "source": [
    "df2 = pd.DataFrame({'tweets':tweets,'likes':likes,'time':time})"
   ]
  },
  {
   "cell_type": "code",
   "execution_count": null,
   "id": "c25bf3cd",
   "metadata": {},
   "outputs": [],
   "source": [
    "df2"
   ]
  },
  {
   "cell_type": "code",
   "execution_count": null,
   "id": "160cc696",
   "metadata": {},
   "outputs": [],
   "source": [
    "df2.head(500)"
   ]
  },
  {
   "cell_type": "code",
   "execution_count": null,
   "id": "56586761",
   "metadata": {},
   "outputs": [],
   "source": [
    "from datetime import datetime\n",
    "now = datetime.now()\n",
    "df.to_csv('D:\\\\FACU\\\\TF_CSVs\\\\'+'WorldCupTweets_' + str(now)[:16].replace(':','_') + '.csv',\n",
    "          index=True,\n",
    "          sep=';'\n",
    "         )\n"
   ]
  },
  {
   "cell_type": "code",
   "execution_count": null,
   "id": "e7eb87c9",
   "metadata": {},
   "outputs": [],
   "source": []
  }
 ],
 "metadata": {
  "kernelspec": {
   "display_name": "Python 3 (ipykernel)",
   "language": "python",
   "name": "python3"
  },
  "language_info": {
   "codemirror_mode": {
    "name": "ipython",
    "version": 3
   },
   "file_extension": ".py",
   "mimetype": "text/x-python",
   "name": "python",
   "nbconvert_exporter": "python",
   "pygments_lexer": "ipython3",
   "version": "3.10.8"
  }
 },
 "nbformat": 4,
 "nbformat_minor": 5
}
